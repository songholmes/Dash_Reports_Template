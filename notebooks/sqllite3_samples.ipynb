{
 "cells": [
  {
   "cell_type": "code",
   "execution_count": 2,
   "metadata": {
    "collapsed": true
   },
   "outputs": [],
   "source": [
    "import sqlite3\n",
    "import pandas as pd\n",
    "import numpy as np\n",
    "con = sqlite3.connect(\"..\\\\data\\\\tutorial.db\")"
   ]
  },
  {
   "cell_type": "code",
   "execution_count": 3,
   "outputs": [],
   "source": [
    "cur = con.cursor()"
   ],
   "metadata": {
    "collapsed": false
   }
  },
  {
   "cell_type": "code",
   "execution_count": 14,
   "outputs": [
    {
     "data": {
      "text/plain": "<sqlite3.Cursor at 0x23fa3710110>"
     },
     "execution_count": 14,
     "metadata": {},
     "output_type": "execute_result"
    }
   ],
   "source": [
    "cur.execute(\"CREATE TABLE movie(title, year, score)\")"
   ],
   "metadata": {
    "collapsed": false
   }
  },
  {
   "cell_type": "code",
   "execution_count": 15,
   "outputs": [
    {
     "data": {
      "text/plain": "('movie',)"
     },
     "execution_count": 15,
     "metadata": {},
     "output_type": "execute_result"
    }
   ],
   "source": [
    "res = cur.execute(\"SELECT name FROM sqlite_master\")\n",
    "res.fetchone()"
   ],
   "metadata": {
    "collapsed": false
   }
  },
  {
   "cell_type": "code",
   "execution_count": 16,
   "outputs": [
    {
     "data": {
      "text/plain": "True"
     },
     "execution_count": 16,
     "metadata": {},
     "output_type": "execute_result"
    }
   ],
   "source": [
    "res = cur.execute(\"SELECT name FROM sqlite_master WHERE name='spam'\")\n",
    "res.fetchone() is None"
   ],
   "metadata": {
    "collapsed": false
   }
  },
  {
   "cell_type": "code",
   "execution_count": 17,
   "outputs": [
    {
     "data": {
      "text/plain": "<sqlite3.Cursor at 0x23fa3710110>"
     },
     "execution_count": 17,
     "metadata": {},
     "output_type": "execute_result"
    }
   ],
   "source": [
    "cur.execute(\"\"\"\n",
    "    INSERT INTO movie VALUES\n",
    "        ('Monty Python and the Holy Grail', '1975/01/02', 8.2),\n",
    "        ('And Now for Something Completely Different', '1971/03/04', 7.5)\n",
    "\"\"\")"
   ],
   "metadata": {
    "collapsed": false
   }
  },
  {
   "cell_type": "code",
   "execution_count": 18,
   "outputs": [],
   "source": [
    "con.commit()"
   ],
   "metadata": {
    "collapsed": false
   }
  },
  {
   "cell_type": "code",
   "execution_count": 19,
   "outputs": [
    {
     "data": {
      "text/plain": "[(8.2,), (7.5,)]"
     },
     "execution_count": 19,
     "metadata": {},
     "output_type": "execute_result"
    }
   ],
   "source": [
    "res = cur.execute(\"SELECT score FROM movie\")\n",
    "res.fetchall()"
   ],
   "metadata": {
    "collapsed": false
   }
  },
  {
   "cell_type": "code",
   "execution_count": 20,
   "outputs": [],
   "source": [
    "data = [\n",
    "    (\"Monty Python Live at the Hollywood Bowl\", '1982/05/06', 7.9),\n",
    "    (\"Monty Python's The Meaning of Life\", '1983/07/08', 7.5),\n",
    "    (\"Monty Python's Life of Brian\", '1979/08/09', 8.0),\n",
    "]\n",
    "cur.executemany(\"INSERT INTO movie VALUES(?, ?, ?)\", data)\n",
    "con.commit()  # Remember to commit the transaction after executing INSERT."
   ],
   "metadata": {
    "collapsed": false
   }
  },
  {
   "cell_type": "markdown",
   "source": [
    "### With Pandas"
   ],
   "metadata": {
    "collapsed": false
   }
  },
  {
   "cell_type": "code",
   "execution_count": 23,
   "outputs": [
    {
     "data": {
      "text/plain": "                                        title        year  score\n0             Monty Python and the Holy Grail  1975/01/02    8.2\n1  And Now for Something Completely Different  1971/03/04    7.5\n2     Monty Python Live at the Hollywood Bowl  1982/05/06    7.9\n3          Monty Python's The Meaning of Life  1983/07/08    7.5\n4                Monty Python's Life of Brian  1979/08/09    8.0",
      "text/html": "<div>\n<style scoped>\n    .dataframe tbody tr th:only-of-type {\n        vertical-align: middle;\n    }\n\n    .dataframe tbody tr th {\n        vertical-align: top;\n    }\n\n    .dataframe thead th {\n        text-align: right;\n    }\n</style>\n<table border=\"1\" class=\"dataframe\">\n  <thead>\n    <tr style=\"text-align: right;\">\n      <th></th>\n      <th>title</th>\n      <th>year</th>\n      <th>score</th>\n    </tr>\n  </thead>\n  <tbody>\n    <tr>\n      <th>0</th>\n      <td>Monty Python and the Holy Grail</td>\n      <td>1975/01/02</td>\n      <td>8.2</td>\n    </tr>\n    <tr>\n      <th>1</th>\n      <td>And Now for Something Completely Different</td>\n      <td>1971/03/04</td>\n      <td>7.5</td>\n    </tr>\n    <tr>\n      <th>2</th>\n      <td>Monty Python Live at the Hollywood Bowl</td>\n      <td>1982/05/06</td>\n      <td>7.9</td>\n    </tr>\n    <tr>\n      <th>3</th>\n      <td>Monty Python's The Meaning of Life</td>\n      <td>1983/07/08</td>\n      <td>7.5</td>\n    </tr>\n    <tr>\n      <th>4</th>\n      <td>Monty Python's Life of Brian</td>\n      <td>1979/08/09</td>\n      <td>8.0</td>\n    </tr>\n  </tbody>\n</table>\n</div>"
     },
     "execution_count": 23,
     "metadata": {},
     "output_type": "execute_result"
    }
   ],
   "source": [
    "df = pd.read_sql(\"select * from movie\", con)\n",
    "df"
   ],
   "metadata": {
    "collapsed": false
   }
  },
  {
   "cell_type": "code",
   "execution_count": 24,
   "outputs": [
    {
     "data": {
      "text/plain": "                                        title        year  score\n0             Monty Python and the Holy Grail  1975/01/02    8.2\n1  And Now for Something Completely Different  1971/03/04    7.5\n2     Monty Python Live at the Hollywood Bowl  1982/05/06    7.9\n3          Monty Python's The Meaning of Life  1983/07/08    7.5\n4                Monty Python's Life of Brian  1979/08/09    8.0\n0                      pandas reading results  2023/04/05    9.0",
      "text/html": "<div>\n<style scoped>\n    .dataframe tbody tr th:only-of-type {\n        vertical-align: middle;\n    }\n\n    .dataframe tbody tr th {\n        vertical-align: top;\n    }\n\n    .dataframe thead th {\n        text-align: right;\n    }\n</style>\n<table border=\"1\" class=\"dataframe\">\n  <thead>\n    <tr style=\"text-align: right;\">\n      <th></th>\n      <th>title</th>\n      <th>year</th>\n      <th>score</th>\n    </tr>\n  </thead>\n  <tbody>\n    <tr>\n      <th>0</th>\n      <td>Monty Python and the Holy Grail</td>\n      <td>1975/01/02</td>\n      <td>8.2</td>\n    </tr>\n    <tr>\n      <th>1</th>\n      <td>And Now for Something Completely Different</td>\n      <td>1971/03/04</td>\n      <td>7.5</td>\n    </tr>\n    <tr>\n      <th>2</th>\n      <td>Monty Python Live at the Hollywood Bowl</td>\n      <td>1982/05/06</td>\n      <td>7.9</td>\n    </tr>\n    <tr>\n      <th>3</th>\n      <td>Monty Python's The Meaning of Life</td>\n      <td>1983/07/08</td>\n      <td>7.5</td>\n    </tr>\n    <tr>\n      <th>4</th>\n      <td>Monty Python's Life of Brian</td>\n      <td>1979/08/09</td>\n      <td>8.0</td>\n    </tr>\n    <tr>\n      <th>0</th>\n      <td>pandas reading results</td>\n      <td>2023/04/05</td>\n      <td>9.0</td>\n    </tr>\n  </tbody>\n</table>\n</div>"
     },
     "execution_count": 24,
     "metadata": {},
     "output_type": "execute_result"
    }
   ],
   "source": [
    "df=df.append(pd.DataFrame(data = {'title':['pandas reading results'], 'year':['2023/04/05'], 'score':[9]}))\n",
    "df"
   ],
   "metadata": {
    "collapsed": false
   }
  },
  {
   "cell_type": "code",
   "execution_count": 25,
   "outputs": [],
   "source": [
    "df.to_sql('movie', con, if_exists='replace', index=False) # or append"
   ],
   "metadata": {
    "collapsed": false
   }
  },
  {
   "cell_type": "code",
   "execution_count": 26,
   "outputs": [
    {
     "data": {
      "text/plain": "[('Monty Python and the Holy Grail', '1975/01/02', 8.2),\n ('And Now for Something Completely Different', '1971/03/04', 7.5),\n ('Monty Python Live at the Hollywood Bowl', '1982/05/06', 7.9),\n (\"Monty Python's The Meaning of Life\", '1983/07/08', 7.5),\n (\"Monty Python's Life of Brian\", '1979/08/09', 8.0),\n ('pandas reading results', '2023/04/05', 9.0)]"
     },
     "execution_count": 26,
     "metadata": {},
     "output_type": "execute_result"
    }
   ],
   "source": [
    "res = cur.execute(\"SELECT * FROM movie\")\n",
    "res.fetchall()"
   ],
   "metadata": {
    "collapsed": false
   }
  },
  {
   "cell_type": "code",
   "execution_count": 13,
   "outputs": [],
   "source": [
    "# cur.execute('drop table movie')\n",
    "# con.commit()"
   ],
   "metadata": {
    "collapsed": false
   }
  },
  {
   "cell_type": "code",
   "execution_count": null,
   "outputs": [],
   "source": [],
   "metadata": {
    "collapsed": false
   }
  }
 ],
 "metadata": {
  "kernelspec": {
   "display_name": "Python 3",
   "language": "python",
   "name": "python3"
  },
  "language_info": {
   "codemirror_mode": {
    "name": "ipython",
    "version": 2
   },
   "file_extension": ".py",
   "mimetype": "text/x-python",
   "name": "python",
   "nbconvert_exporter": "python",
   "pygments_lexer": "ipython2",
   "version": "2.7.6"
  }
 },
 "nbformat": 4,
 "nbformat_minor": 0
}
