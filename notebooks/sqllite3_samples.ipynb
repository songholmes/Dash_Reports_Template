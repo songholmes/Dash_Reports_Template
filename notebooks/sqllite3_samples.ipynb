{
 "cells": [
  {
   "cell_type": "code",
   "execution_count": 1,
   "metadata": {
    "collapsed": true,
    "ExecuteTime": {
     "end_time": "2025-02-25T14:58:00.922987Z",
     "start_time": "2025-02-25T14:58:00.224949Z"
    }
   },
   "outputs": [],
   "source": [
    "import sqlite3\n",
    "import pandas as pd\n",
    "import numpy as np\n",
    "con = sqlite3.connect(\"..\\\\data\\\\tutorial.db\")"
   ]
  },
  {
   "cell_type": "code",
   "execution_count": 2,
   "outputs": [],
   "source": [
    "cur = con.cursor()"
   ],
   "metadata": {
    "collapsed": false,
    "ExecuteTime": {
     "end_time": "2025-02-25T14:58:05.994987Z",
     "start_time": "2025-02-25T14:58:05.978471Z"
    }
   }
  },
  {
   "cell_type": "code",
   "execution_count": 3,
   "outputs": [
    {
     "data": {
      "text/plain": "<sqlite3.Cursor at 0x1835f9c0880>"
     },
     "execution_count": 3,
     "metadata": {},
     "output_type": "execute_result"
    }
   ],
   "source": [
    "cur.execute(\"CREATE TABLE movie(title, year, score)\")"
   ],
   "metadata": {
    "collapsed": false,
    "ExecuteTime": {
     "end_time": "2025-02-25T14:58:07.011472Z",
     "start_time": "2025-02-25T14:58:06.994464Z"
    }
   }
  },
  {
   "cell_type": "code",
   "execution_count": 4,
   "outputs": [
    {
     "data": {
      "text/plain": "('movie',)"
     },
     "execution_count": 4,
     "metadata": {},
     "output_type": "execute_result"
    }
   ],
   "source": [
    "res = cur.execute(\"SELECT name FROM sqlite_master\")\n",
    "res.fetchone()"
   ],
   "metadata": {
    "collapsed": false,
    "ExecuteTime": {
     "end_time": "2025-02-25T14:58:07.575159Z",
     "start_time": "2025-02-25T14:58:07.557143Z"
    }
   }
  },
  {
   "cell_type": "code",
   "execution_count": 5,
   "outputs": [
    {
     "data": {
      "text/plain": "True"
     },
     "execution_count": 5,
     "metadata": {},
     "output_type": "execute_result"
    }
   ],
   "source": [
    "res = cur.execute(\"SELECT name FROM sqlite_master WHERE name='spam'\")\n",
    "res.fetchone() is None"
   ],
   "metadata": {
    "collapsed": false,
    "ExecuteTime": {
     "end_time": "2025-02-25T14:58:08.253684Z",
     "start_time": "2025-02-25T14:58:08.236154Z"
    }
   }
  },
  {
   "cell_type": "code",
   "execution_count": 6,
   "outputs": [
    {
     "data": {
      "text/plain": "<sqlite3.Cursor at 0x1835f9c0880>"
     },
     "execution_count": 6,
     "metadata": {},
     "output_type": "execute_result"
    }
   ],
   "source": [
    "cur.execute(\"\"\"\n",
    "    INSERT INTO movie VALUES\n",
    "        ('Monty Python and the Holy Grail', '1975/01/02', 8.2),\n",
    "        ('And Now for Something Completely Different', '1971/03/04', 7.5)\n",
    "\"\"\")"
   ],
   "metadata": {
    "collapsed": false,
    "ExecuteTime": {
     "end_time": "2025-02-25T14:58:08.801271Z",
     "start_time": "2025-02-25T14:58:08.780733Z"
    }
   }
  },
  {
   "cell_type": "code",
   "execution_count": 7,
   "outputs": [],
   "source": [
    "con.commit()"
   ],
   "metadata": {
    "collapsed": false,
    "ExecuteTime": {
     "end_time": "2025-02-25T14:58:09.666538Z",
     "start_time": "2025-02-25T14:58:09.654515Z"
    }
   }
  },
  {
   "cell_type": "code",
   "execution_count": 8,
   "outputs": [
    {
     "data": {
      "text/plain": "[(8.2,), (7.5,)]"
     },
     "execution_count": 8,
     "metadata": {},
     "output_type": "execute_result"
    }
   ],
   "source": [
    "res = cur.execute(\"SELECT score FROM movie\")\n",
    "res.fetchall()"
   ],
   "metadata": {
    "collapsed": false,
    "ExecuteTime": {
     "end_time": "2025-02-25T14:58:10.104450Z",
     "start_time": "2025-02-25T14:58:10.087447Z"
    }
   }
  },
  {
   "cell_type": "code",
   "execution_count": 9,
   "outputs": [],
   "source": [
    "data = [\n",
    "    (\"Monty Python Live at the Hollywood Bowl\", '1982/05/06', 7.9),\n",
    "    (\"Monty Python's The Meaning of Life\", '1983/07/08', 7.5),\n",
    "    (\"Monty Python's Life of Brian\", '1979/08/09', 8.0),\n",
    "]\n",
    "cur.executemany(\"INSERT INTO movie VALUES(?, ?, ?)\", data)\n",
    "con.commit()  # Remember to commit the transaction after executing INSERT."
   ],
   "metadata": {
    "collapsed": false,
    "ExecuteTime": {
     "end_time": "2025-02-25T14:58:10.664044Z",
     "start_time": "2025-02-25T14:58:10.656030Z"
    }
   }
  },
  {
   "cell_type": "markdown",
   "source": [
    "### With Pandas"
   ],
   "metadata": {
    "collapsed": false
   }
  },
  {
   "cell_type": "code",
   "execution_count": 10,
   "outputs": [
    {
     "data": {
      "text/plain": "                                        title        year  score\n0             Monty Python and the Holy Grail  1975/01/02    8.2\n1  And Now for Something Completely Different  1971/03/04    7.5\n2     Monty Python Live at the Hollywood Bowl  1982/05/06    7.9\n3          Monty Python's The Meaning of Life  1983/07/08    7.5\n4                Monty Python's Life of Brian  1979/08/09    8.0",
      "text/html": "<div>\n<style scoped>\n    .dataframe tbody tr th:only-of-type {\n        vertical-align: middle;\n    }\n\n    .dataframe tbody tr th {\n        vertical-align: top;\n    }\n\n    .dataframe thead th {\n        text-align: right;\n    }\n</style>\n<table border=\"1\" class=\"dataframe\">\n  <thead>\n    <tr style=\"text-align: right;\">\n      <th></th>\n      <th>title</th>\n      <th>year</th>\n      <th>score</th>\n    </tr>\n  </thead>\n  <tbody>\n    <tr>\n      <th>0</th>\n      <td>Monty Python and the Holy Grail</td>\n      <td>1975/01/02</td>\n      <td>8.2</td>\n    </tr>\n    <tr>\n      <th>1</th>\n      <td>And Now for Something Completely Different</td>\n      <td>1971/03/04</td>\n      <td>7.5</td>\n    </tr>\n    <tr>\n      <th>2</th>\n      <td>Monty Python Live at the Hollywood Bowl</td>\n      <td>1982/05/06</td>\n      <td>7.9</td>\n    </tr>\n    <tr>\n      <th>3</th>\n      <td>Monty Python's The Meaning of Life</td>\n      <td>1983/07/08</td>\n      <td>7.5</td>\n    </tr>\n    <tr>\n      <th>4</th>\n      <td>Monty Python's Life of Brian</td>\n      <td>1979/08/09</td>\n      <td>8.0</td>\n    </tr>\n  </tbody>\n</table>\n</div>"
     },
     "execution_count": 10,
     "metadata": {},
     "output_type": "execute_result"
    }
   ],
   "source": [
    "df = pd.read_sql(\"select * from movie\", con)\n",
    "df"
   ],
   "metadata": {
    "collapsed": false,
    "ExecuteTime": {
     "end_time": "2025-02-25T14:58:12.784757Z",
     "start_time": "2025-02-25T14:58:12.755244Z"
    }
   }
  },
  {
   "cell_type": "code",
   "execution_count": 11,
   "outputs": [
    {
     "data": {
      "text/plain": "                                        title        year  score\n0             Monty Python and the Holy Grail  1975/01/02    8.2\n1  And Now for Something Completely Different  1971/03/04    7.5\n2     Monty Python Live at the Hollywood Bowl  1982/05/06    7.9\n3          Monty Python's The Meaning of Life  1983/07/08    7.5\n4                Monty Python's Life of Brian  1979/08/09    8.0\n0                      pandas reading results  2023/04/05    9.0",
      "text/html": "<div>\n<style scoped>\n    .dataframe tbody tr th:only-of-type {\n        vertical-align: middle;\n    }\n\n    .dataframe tbody tr th {\n        vertical-align: top;\n    }\n\n    .dataframe thead th {\n        text-align: right;\n    }\n</style>\n<table border=\"1\" class=\"dataframe\">\n  <thead>\n    <tr style=\"text-align: right;\">\n      <th></th>\n      <th>title</th>\n      <th>year</th>\n      <th>score</th>\n    </tr>\n  </thead>\n  <tbody>\n    <tr>\n      <th>0</th>\n      <td>Monty Python and the Holy Grail</td>\n      <td>1975/01/02</td>\n      <td>8.2</td>\n    </tr>\n    <tr>\n      <th>1</th>\n      <td>And Now for Something Completely Different</td>\n      <td>1971/03/04</td>\n      <td>7.5</td>\n    </tr>\n    <tr>\n      <th>2</th>\n      <td>Monty Python Live at the Hollywood Bowl</td>\n      <td>1982/05/06</td>\n      <td>7.9</td>\n    </tr>\n    <tr>\n      <th>3</th>\n      <td>Monty Python's The Meaning of Life</td>\n      <td>1983/07/08</td>\n      <td>7.5</td>\n    </tr>\n    <tr>\n      <th>4</th>\n      <td>Monty Python's Life of Brian</td>\n      <td>1979/08/09</td>\n      <td>8.0</td>\n    </tr>\n    <tr>\n      <th>0</th>\n      <td>pandas reading results</td>\n      <td>2023/04/05</td>\n      <td>9.0</td>\n    </tr>\n  </tbody>\n</table>\n</div>"
     },
     "execution_count": 11,
     "metadata": {},
     "output_type": "execute_result"
    }
   ],
   "source": [
    "df=df.append(pd.DataFrame(data = {'title':['pandas reading results'], 'year':['2023/04/05'], 'score':[9]}))\n",
    "df"
   ],
   "metadata": {
    "collapsed": false,
    "ExecuteTime": {
     "end_time": "2025-02-25T14:58:14.154473Z",
     "start_time": "2025-02-25T14:58:14.126432Z"
    }
   }
  },
  {
   "cell_type": "code",
   "execution_count": 12,
   "outputs": [],
   "source": [
    "df.to_sql('movie', con, if_exists='replace', index=False) # or append"
   ],
   "metadata": {
    "collapsed": false,
    "ExecuteTime": {
     "end_time": "2025-02-25T14:58:15.263798Z",
     "start_time": "2025-02-25T14:58:15.243791Z"
    }
   }
  },
  {
   "cell_type": "code",
   "execution_count": 13,
   "outputs": [
    {
     "data": {
      "text/plain": "[('Monty Python and the Holy Grail', '1975/01/02', 8.2),\n ('And Now for Something Completely Different', '1971/03/04', 7.5),\n ('Monty Python Live at the Hollywood Bowl', '1982/05/06', 7.9),\n (\"Monty Python's The Meaning of Life\", '1983/07/08', 7.5),\n (\"Monty Python's Life of Brian\", '1979/08/09', 8.0),\n ('pandas reading results', '2023/04/05', 9.0)]"
     },
     "execution_count": 13,
     "metadata": {},
     "output_type": "execute_result"
    }
   ],
   "source": [
    "res = cur.execute(\"SELECT * FROM movie\")\n",
    "res.fetchall()"
   ],
   "metadata": {
    "collapsed": false,
    "ExecuteTime": {
     "end_time": "2025-02-25T14:58:16.111369Z",
     "start_time": "2025-02-25T14:58:16.092349Z"
    }
   }
  },
  {
   "cell_type": "code",
   "execution_count": 13,
   "outputs": [],
   "source": [
    "# cur.execute('drop table movie')\n",
    "# con.commit()"
   ],
   "metadata": {
    "collapsed": false
   }
  },
  {
   "cell_type": "code",
   "execution_count": null,
   "outputs": [],
   "source": [],
   "metadata": {
    "collapsed": false
   }
  }
 ],
 "metadata": {
  "kernelspec": {
   "display_name": "Python 3",
   "language": "python",
   "name": "python3"
  },
  "language_info": {
   "codemirror_mode": {
    "name": "ipython",
    "version": 2
   },
   "file_extension": ".py",
   "mimetype": "text/x-python",
   "name": "python",
   "nbconvert_exporter": "python",
   "pygments_lexer": "ipython2",
   "version": "2.7.6"
  }
 },
 "nbformat": 4,
 "nbformat_minor": 0
}
